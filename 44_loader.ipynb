{
 "cells": [
  {
   "cell_type": "code",
   "execution_count": 1,
   "metadata": {},
   "outputs": [],
   "source": [
    "# SH-I"
   ]
  },
  {
   "cell_type": "code",
   "execution_count": 4,
   "metadata": {},
   "outputs": [],
   "source": [
    "import numpy as np\n",
    "import pandas as pd\n",
    "import itertools\n",
    "import matplotlib.pyplot as plt\n",
    "import pickle"
   ]
  },
  {
   "cell_type": "code",
   "execution_count": 5,
   "metadata": {},
   "outputs": [],
   "source": [
    "data = pd.read_csv('rfu_norm.csv')\n",
    "data = data.round(decimals = 4)\n",
    "\n",
    "monomers = ['Fuc', 'GalNAc', 'Gal', 'GlcNAc', 'Glc', 'KDN', 'Man', 'Neu5,9Ac',\n",
    "            'Neu5Ac', 'Neu5Gc']\n",
    "link_type = ['a', 'b']\n",
    "link_pos = ['1-2', '1-3', '1-4', '1-5', '2-3', '2-6', '-']\n",
    "linkages = ['Sp0', 'Sp8', 'Sp9', 'Sp10', 'Sp11', 'Sp12', 'Sp13', 'Sp14', 'Sp15',\n",
    "            'Sp16', 'Sp17', 'Sp18', 'Sp19', 'Sp20', 'Sp21', 'Sp22', 'Sp23',\n",
    "            'Sp24', 'Sp25', 'MDPLys']\n",
    "\n",
    "units = [x + y + z for x, y, z in list(itertools.product(monomers, link_type, link_pos))]"
   ]
  },
  {
   "cell_type": "code",
   "execution_count": 6,
   "metadata": {},
   "outputs": [],
   "source": [
    "def vectorized_result(i):\n",
    "    \n",
    "    upper = 0.6\n",
    "    lower = 0.2\n",
    "\n",
    "    e = np.zeros((3, 1))\n",
    "\n",
    "    if upper <= i:\n",
    "\n",
    "        e[0] = 1.0\n",
    "\n",
    "    elif lower <= i < upper:\n",
    "\n",
    "        e[1] = 1.0\n",
    "\n",
    "    elif i < lower:\n",
    "\n",
    "        e[2] = 1.0\n",
    "\n",
    "    return e"
   ]
  },
  {
   "cell_type": "code",
   "execution_count": 5,
   "metadata": {},
   "outputs": [],
   "source": [
    "def counter(glycan):\n",
    "\n",
    "    count_list = []\n",
    "\n",
    "    for unit in units + linkages:\n",
    "\n",
    "        n = glycan.count(unit)\n",
    "\n",
    "        count_list.append(n)\n",
    "\n",
    "    return np.array(count_list, dtype = float).reshape((-1, 1))"
   ]
  },
  {
   "cell_type": "code",
   "execution_count": 6,
   "metadata": {},
   "outputs": [],
   "source": [
    "def load_data(split):\n",
    "\n",
    "    input_data = list(data['Structure on Masterlist'].apply(counter))\n",
    "    output_data = list(data['MpL-1 (10ug/ml)'].apply(vectorized_result))\n",
    "\n",
    "    training_data = zip(input_data[:split], output_data[:split])\n",
    "    test_data = zip(input_data[split:], output_data[split:])\n",
    "\n",
    "    return (training_data, test_data)"
   ]
  },
  {
   "cell_type": "code",
   "execution_count": 66,
   "metadata": {},
   "outputs": [],
   "source": [
    "x, y = (np.array([[0.00307205],\n",
    "       [0.00684805],\n",
    "       [0.9999471 ]]), np.array([[0.],\n",
    "       [0.],\n",
    "       [1.]]))"
   ]
  },
  {
   "cell_type": "code",
   "execution_count": 24,
   "metadata": {},
   "outputs": [],
   "source": [
    "def heat(x, y):\n",
    "\n",
    "    plt.subplot(1, 2, 1)\n",
    "    plt.imshow(x, cmap = 'Blues')\n",
    "    plt.title('output')\n",
    "    plt.axis('off')\n",
    "\n",
    "    plt.subplot(1, 2, 2)\n",
    "    plt.imshow(y, cmap = 'Blues')\n",
    "    plt.title('desired output')\n",
    "    plt.axis('off')\n",
    "\n",
    "    plt.show()"
   ]
  },
  {
   "cell_type": "code",
   "execution_count": 25,
   "metadata": {},
   "outputs": [
    {
     "data": {
      "image/png": "[encoded data removed]",
      "text/plain": [
       "<Figure size 432x288 with 2 Axes>"
      ]
     },
     "metadata": {
      "needs_background": "light"
     },
     "output_type": "display_data"
    }
   ],
   "source": [
    "heat(x, y)"
   ]
  },
  {
   "cell_type": "code",
   "execution_count": 26,
   "metadata": {},
   "outputs": [],
   "source": [
    "test = [(np.array([[0], [1]]), np.array([[0], [1]])), (np.array([[0], [1]]), np.array([[0], [1]]))]"
   ]
  },
  {
   "cell_type": "code",
   "execution_count": 27,
   "metadata": {},
   "outputs": [],
   "source": [
    "# save\n",
    "with open('array.pkl', 'wb') as f:\n",
    "    \n",
    "    pickle.dump(test, f)"
   ]
  },
  {
   "cell_type": "code",
   "execution_count": 28,
   "metadata": {},
   "outputs": [],
   "source": [
    "# load\n",
    "with open('array.pkl', 'rb') as f:\n",
    "    \n",
    "    mynewlist = pickle.load(f)"
   ]
  },
  {
   "cell_type": "code",
   "execution_count": null,
   "metadata": {},
   "outputs": [],
   "source": []
  }
 ],
 "metadata": {
  "kernelspec": {
   "display_name": "Python 3",
   "language": "python",
   "name": "python3"
  },
  "language_info": {
   "codemirror_mode": {
    "name": "ipython",
    "version": 3
   },
   "file_extension": ".py",
   "mimetype": "text/x-python",
   "name": "python",
   "nbconvert_exporter": "python",
   "pygments_lexer": "ipython3",
   "version": "3.7.3"
  }
 },
 "nbformat": 4,
 "nbformat_minor": 2
}
