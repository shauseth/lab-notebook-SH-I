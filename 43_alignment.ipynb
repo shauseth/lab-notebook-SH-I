{
 "cells": [
  {
   "cell_type": "code",
   "execution_count": 1,
   "metadata": {},
   "outputs": [],
   "source": [
    "# SH-I"
   ]
  },
  {
   "cell_type": "code",
   "execution_count": 2,
   "metadata": {},
   "outputs": [],
   "source": [
    "import pandas as pd\n",
    "import numpy as np\n",
    "import matplotlib.pyplot as plt"
   ]
  },
  {
   "cell_type": "code",
   "execution_count": 3,
   "metadata": {},
   "outputs": [],
   "source": [
    "cfg = pd.read_csv('cfg_fig/cfg.csv')\n",
    "liga = pd.read_csv('cfg_fig/liga_uea.csv')"
   ]
  },
  {
   "cell_type": "code",
   "execution_count": 4,
   "metadata": {},
   "outputs": [],
   "source": [
    "cfg['Unit'] = ['-'.join(x.split('-')[:-1]) + '-' for x in cfg['IUPAC']]\n",
    "liga['Unit'] = ['-'.join(x.split('-')[:-1]) + '-' for x in liga['IUPAC']]"
   ]
  },
  {
   "cell_type": "code",
   "execution_count": 5,
   "metadata": {},
   "outputs": [],
   "source": [
    "df = pd.merge(liga, cfg, on = 'Unit', how = 'outer')\n",
    "df = df[['Mod', 'total', 'IUPAC_x', 'IUPAC_y', 'Structure on Masterlist', 'Average RFU', 'StDev']]\n",
    "df = df.drop_duplicates()"
   ]
  },
  {
   "cell_type": "code",
   "execution_count": 6,
   "metadata": {},
   "outputs": [],
   "source": [
    "is_duplicate = df[['Mod', 'total', 'IUPAC_x']].duplicated()\n",
    "df_liga = df[['Mod', 'total', 'IUPAC_x']].where(~is_duplicate, np.NaN)\n",
    "\n",
    "is_duplicate = df[['IUPAC_y', 'Structure on Masterlist', 'Average RFU', 'StDev']].duplicated()\n",
    "df_cfg = df[['IUPAC_y', 'Structure on Masterlist', 'Average RFU', 'StDev']].where(~is_duplicate, np.NaN)"
   ]
  },
  {
   "cell_type": "code",
   "execution_count": 11,
   "metadata": {},
   "outputs": [],
   "source": [
    "out = df_liga.join(df_cfg)\n",
    "out = out.drop_duplicates()\n",
    "out = out.dropna(how = 'all')"
   ]
  },
  {
   "cell_type": "code",
   "execution_count": 12,
   "metadata": {},
   "outputs": [],
   "source": [
    "out.to_csv('cfg_fig/aligned.csv', index = False)"
   ]
  },
  {
   "cell_type": "code",
   "execution_count": null,
   "metadata": {},
   "outputs": [],
   "source": []
  }
 ],
 "metadata": {
  "kernelspec": {
   "display_name": "Python 3",
   "language": "python",
   "name": "python3"
  },
  "language_info": {
   "codemirror_mode": {
    "name": "ipython",
    "version": 3
   },
   "file_extension": ".py",
   "mimetype": "text/x-python",
   "name": "python",
   "nbconvert_exporter": "python",
   "pygments_lexer": "ipython3",
   "version": "3.7.3"
  }
 },
 "nbformat": 4,
 "nbformat_minor": 2
}
