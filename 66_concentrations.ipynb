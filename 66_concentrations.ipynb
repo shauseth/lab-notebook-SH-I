{
 "cells": [
  {
   "cell_type": "code",
   "execution_count": 1,
   "metadata": {},
   "outputs": [],
   "source": [
    "# SH-I"
   ]
  },
  {
   "cell_type": "code",
   "execution_count": 2,
   "metadata": {},
   "outputs": [],
   "source": [
    "from urllib.request import urlopen\n",
    "from urllib.request import urlretrieve\n",
    "\n",
    "import os"
   ]
  },
  {
   "cell_type": "code",
   "execution_count": 3,
   "metadata": {},
   "outputs": [],
   "source": [
    "term = 'UEA'"
   ]
  },
  {
   "cell_type": "code",
   "execution_count": 7,
   "metadata": {},
   "outputs": [],
   "source": [
    "def primscreen(term):\n",
    "    \n",
    "    html = urlopen('http://www.functionalglycomics.org/glycomics/search/jsp/result.jsp?query=' + term)\n",
    "    page = str(html.read())\n",
    "    page_list = page.split('/glycomics/HServlet?operation=view&sideMenu=no&psId=')\n",
    "    psid_list = [i.split('\"')[0] for i in page_list[1:]]\n",
    "    \n",
    "    return psid_list"
   ]
  },
  {
   "cell_type": "code",
   "execution_count": 5,
   "metadata": {},
   "outputs": [],
   "source": [
    "def download(psid, term):\n",
    "    \n",
    "    html = urlopen('http://www.functionalglycomics.org/glycomics/HServlet?operation=view&sideMenu=no&psId=' + psid)\n",
    "    page = str(html.read())\n",
    "    link = page.split('\\\\\\')\">Download</a></td>')[0].split('href=\"javascript:openWindow(\\\\\\'')[-1]\n",
    "\n",
    "    os.makedirs('concentrations/' + term, exist_ok = True)\n",
    "\n",
    "    urlretrieve(link, './concentrations/' + term + '/' + psid + '.xls')\n",
    "\n",
    "    print(psid + ' downloaded.')"
   ]
  },
  {
   "cell_type": "code",
   "execution_count": 8,
   "metadata": {},
   "outputs": [
    {
     "name": "stdout",
     "output_type": "stream",
     "text": [
      "primscreen_4421 downloaded.\n",
      "primscreen_4420 downloaded.\n",
      "primscreen_4419 downloaded.\n",
      "primscreen_4803 downloaded.\n",
      "primscreen_4802 downloaded.\n",
      "primscreen_4801 downloaded.\n",
      "primscreen_4800 downloaded.\n",
      "primscreen_4799 downloaded.\n",
      "primscreen_4798 downloaded.\n",
      "primscreen_4797 downloaded.\n",
      "primscreen_4742 downloaded.\n",
      "primscreen_4741 downloaded.\n",
      "primscreen_4740 downloaded.\n",
      "primscreen_4739 downloaded.\n",
      "primscreen_4738 downloaded.\n",
      "primscreen_4737 downloaded.\n",
      "primscreen_4736 downloaded.\n",
      "primscreen_4735 downloaded.\n",
      "primscreen_4734 downloaded.\n",
      "primscreen_753 downloaded.\n",
      "primscreen_2791 downloaded.\n",
      "primscreen_PA_v2_728_09262005 downloaded.\n"
     ]
    }
   ],
   "source": [
    "for psid in primscreen(term):\n",
    "    \n",
    "    download(psid, term)"
   ]
  },
  {
   "cell_type": "code",
   "execution_count": null,
   "metadata": {},
   "outputs": [],
   "source": []
  }
 ],
 "metadata": {
  "kernelspec": {
   "display_name": "Python 3",
   "language": "python",
   "name": "python3"
  },
  "language_info": {
   "codemirror_mode": {
    "name": "ipython",
    "version": 3
   },
   "file_extension": ".py",
   "mimetype": "text/x-python",
   "name": "python",
   "nbconvert_exporter": "python",
   "pygments_lexer": "ipython3",
   "version": "3.7.3"
  }
 },
 "nbformat": 4,
 "nbformat_minor": 2
}
