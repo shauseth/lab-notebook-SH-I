{
 "cells": [
  {
   "cell_type": "code",
   "execution_count": 2,
   "metadata": {},
   "outputs": [],
   "source": [
    "# SH-I"
   ]
  },
  {
   "cell_type": "code",
   "execution_count": 3,
   "metadata": {},
   "outputs": [],
   "source": [
    "import pandas as pd\n",
    "import numpy as np\n",
    "import os\n",
    "import matplotlib as mpl\n",
    "import matplotlib.pyplot as plt"
   ]
  },
  {
   "cell_type": "code",
   "execution_count": 27,
   "metadata": {},
   "outputs": [],
   "source": [
    "lectins = ['ACG', 'CTB', 'DC_SIGN', 'Gal4', 'LCA', 'MAL', 'NPL', 'PSA', 'SBA', 'SNL', 'UEA']\n",
    "\n",
    "lectin_dict = {'ACG' : 'Agrocybe cylindracea lectin',\n",
    "               'CTB' : 'Cholera Toxin B subunit',\n",
    "               'DC_SIGN' : 'DC-SIGN CRD',\n",
    "               'Gal4' : 'Gal4-mAb',\n",
    "               'LCA' : 'Lens culinaris Agglutinin',\n",
    "               'MAL' : 'Maachkia amurensis Leukoagglutinin',\n",
    "               'NPL' : 'Narcissus pseudonarcissus lectin',\n",
    "               'PSA' : 'Pisum sativum Agglutinin',\n",
    "               'SBA' : 'Soyabean Agglutinin',\n",
    "               'SNL' : 'Sambucus nigra lectin',\n",
    "               'UEA' : 'Ulex europaeus Agglutinin'}"
   ]
  },
  {
   "cell_type": "code",
   "execution_count": 12,
   "metadata": {},
   "outputs": [],
   "source": [
    "def numbered(aligned):\n",
    "\n",
    "    cfg = aligned['IUPAC (CFG)']\n",
    "\n",
    "    cfg_count = 1\n",
    "    cfg_count_list = []\n",
    "\n",
    "    for x in cfg:\n",
    "\n",
    "        if x is not np.NaN:\n",
    "\n",
    "            cfg_count_list.append(str(cfg_count))\n",
    "\n",
    "            cfg_count += 1\n",
    "\n",
    "        else:\n",
    "\n",
    "            cfg_count_list.append('')\n",
    "\n",
    "    aligned['CFG Count'] = cfg_count_list\n",
    "        \n",
    "    return aligned"
   ]
  },
  {
   "cell_type": "code",
   "execution_count": 23,
   "metadata": {},
   "outputs": [],
   "source": [
    "def drawer(aligned, lectin):\n",
    "\n",
    "    for c, n in zip(aligned['CFG Count'], aligned['IUPAC (CFG)']):\n",
    "\n",
    "        for filename in os.listdir(os.getcwd() + '/drawings/eps/cfg'):\n",
    "\n",
    "            if n in filename:\n",
    "\n",
    "                os.system('cp \"' + os.getcwd() + '/drawings/eps/cfg/' + filename +\n",
    "                            '\" \"' + os.getcwd() + '/CFG_drawings_hits/' + lectin + '_' + c + '_' + n + '.eps\"')"
   ]
  },
  {
   "cell_type": "code",
   "execution_count": 24,
   "metadata": {},
   "outputs": [],
   "source": [
    "lectin = 'UEA'\n",
    "\n",
    "data = pd.read_csv('CFG_data_hits/' + lectin + '_top.csv')"
   ]
  },
  {
   "cell_type": "code",
   "execution_count": 28,
   "metadata": {},
   "outputs": [],
   "source": [
    "drawer(numbered(data), lectin)"
   ]
  },
  {
   "cell_type": "code",
   "execution_count": 29,
   "metadata": {},
   "outputs": [],
   "source": [
    "for lectin in lectins:\n",
    "    \n",
    "    data = pd.read_csv('CFG_data_hits/' + lectin + '_top.csv')\n",
    "    drawer(numbered(data), lectin)"
   ]
  },
  {
   "cell_type": "code",
   "execution_count": null,
   "metadata": {},
   "outputs": [],
   "source": []
  }
 ],
 "metadata": {
  "kernelspec": {
   "display_name": "Python 3",
   "language": "python",
   "name": "python3"
  },
  "language_info": {
   "codemirror_mode": {
    "name": "ipython",
    "version": 3
   },
   "file_extension": ".py",
   "mimetype": "text/x-python",
   "name": "python",
   "nbconvert_exporter": "python",
   "pygments_lexer": "ipython3",
   "version": "3.7.3"
  }
 },
 "nbformat": 4,
 "nbformat_minor": 2
}
