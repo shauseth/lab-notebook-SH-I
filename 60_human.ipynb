{
 "cells": [
  {
   "cell_type": "code",
   "execution_count": 1,
   "metadata": {},
   "outputs": [],
   "source": [
    "# SH-I"
   ]
  },
  {
   "cell_type": "code",
   "execution_count": 2,
   "metadata": {},
   "outputs": [],
   "source": [
    "import os\n",
    "import pandas as pd"
   ]
  },
  {
   "cell_type": "code",
   "execution_count": 3,
   "metadata": {},
   "outputs": [],
   "source": [
    "lectins = ['ACG', 'CTB', 'DC_SIGN', 'Gal4', 'LCA', 'MAL', 'NPL', 'PSA', 'SBA', 'SNL', 'UEA']"
   ]
  },
  {
   "cell_type": "code",
   "execution_count": 4,
   "metadata": {},
   "outputs": [],
   "source": [
    "def vectorized_result(i):\n",
    "\n",
    "    upper = 0.6\n",
    "    lower = 0.2\n",
    "\n",
    "    if upper <= i:\n",
    "\n",
    "        bind = 'high'\n",
    "\n",
    "    elif lower <= i < upper:\n",
    "\n",
    "        bind = 'med'\n",
    "\n",
    "    elif i < lower:\n",
    "\n",
    "        bind = 'low'\n",
    "\n",
    "    return bind"
   ]
  },
  {
   "cell_type": "code",
   "execution_count": 5,
   "metadata": {},
   "outputs": [],
   "source": [
    "def copy(iupac, val):\n",
    "    \n",
    "    draw_dir = os.getcwd() + '/drawings/png/cfg/'\n",
    "    bind_dir = os.getcwd() + '/human/' + lectin + '/'\n",
    "    \n",
    "    for filename in os.listdir(draw_dir):\n",
    "\n",
    "        if iupac in filename:\n",
    "                \n",
    "            draw = draw_dir + filename\n",
    "            bind = bind_dir + val + '/' + filename\n",
    "                \n",
    "            os.system('cp \"' + draw + '\" \"' + bind + '\"')"
   ]
  },
  {
   "cell_type": "code",
   "execution_count": 6,
   "metadata": {},
   "outputs": [],
   "source": [
    "def make(lectin):\n",
    "    \n",
    "    data = pd.read_csv('data/lectins_norm.csv')\n",
    "\n",
    "    for bind in ['high', 'med', 'low']:\n",
    "\n",
    "        if not os.path.exists('human/' + lectin + '/' + bind):\n",
    "\n",
    "            os.makedirs('human/' + lectin + '/' + bind)\n",
    "            \n",
    "    for iupac, val in zip(data['IUPAC'], data[lectin].apply(vectorized_result)):\n",
    "    \n",
    "        copy(iupac, val)"
   ]
  },
  {
   "cell_type": "code",
   "execution_count": 7,
   "metadata": {},
   "outputs": [],
   "source": [
    "for lectin in lectins:\n",
    "    \n",
    "    make(lectin)"
   ]
  },
  {
   "cell_type": "code",
   "execution_count": null,
   "metadata": {},
   "outputs": [],
   "source": []
  }
 ],
 "metadata": {
  "kernelspec": {
   "display_name": "Python 3",
   "language": "python",
   "name": "python3"
  },
  "language_info": {
   "codemirror_mode": {
    "name": "ipython",
    "version": 3
   },
   "file_extension": ".py",
   "mimetype": "text/x-python",
   "name": "python",
   "nbconvert_exporter": "python",
   "pygments_lexer": "ipython3",
   "version": "3.7.3"
  }
 },
 "nbformat": 4,
 "nbformat_minor": 2
}
