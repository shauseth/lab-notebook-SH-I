{
 "cells": [
  {
   "cell_type": "code",
   "execution_count": 1,
   "metadata": {},
   "outputs": [],
   "source": [
    "# SH-I"
   ]
  },
  {
   "cell_type": "code",
   "execution_count": 2,
   "metadata": {},
   "outputs": [],
   "source": [
    "import pandas as pd\n",
    "import numpy as np\n",
    "import itertools"
   ]
  },
  {
   "cell_type": "code",
   "execution_count": 6,
   "metadata": {},
   "outputs": [],
   "source": [
    "def load_data(protein, split):\n",
    "\n",
    "    i1, i2 = int((5 * split) / 2), 5\n",
    "\n",
    "    data = pd.read_csv('data/lectins_norm.csv')\n",
    "    data = data.round(decimals = 4)\n",
    "    data = data.sort_values(protein, ascending = False)\n",
    "\n",
    "    input_data = list(data['IUPAC'])\n",
    "    output_data = list(data[protein])\n",
    "\n",
    "    if split == 0:\n",
    "\n",
    "        training_data = zip(input_data, output_data)\n",
    "        test_data = zip(input_data, output_data)\n",
    "\n",
    "    else:\n",
    "\n",
    "        input_strata = input_data[:i1:i2] + input_data[-i1::i2]\n",
    "        output_strata = output_data[:i1:i2] + output_data[-i1::i2]\n",
    "\n",
    "        training_data = zip([i for i in input_data if not i in input_strata or input_strata.remove(i)],\n",
    "                            [i for i in output_data if not i in output_strata or output_strata.remove(i)])\n",
    "\n",
    "        test_data = zip(input_data[:i1:i2] + input_data[-i1::i2],\n",
    "                        output_data[:i1:i2] + output_data[-i1::i2])\n",
    "\n",
    "    return (training_data, test_data)"
   ]
  },
  {
   "cell_type": "code",
   "execution_count": 7,
   "metadata": {},
   "outputs": [],
   "source": [
    "def load_encoded(protein, split = 10):\n",
    "\n",
    "    training_data, test_data = load_data(protein, split)\n",
    "\n",
    "    training_input, training_output = [], []\n",
    "    test_input, test_output = [], []\n",
    "\n",
    "    for x, y in training_data:\n",
    "\n",
    "        training_input.append(encoder(x))\n",
    "        training_output.append(vectorized_result(y))\n",
    "\n",
    "    for x, y in test_data:\n",
    "\n",
    "        test_input.append(encoder(x))\n",
    "        test_output.append(vectorized_result(y))\n",
    "\n",
    "    training_encoded = zip(training_input, training_output)\n",
    "    test_encoded = zip(test_input, test_output)\n",
    "\n",
    "    return (training_encoded, test_encoded)"
   ]
  },
  {
   "cell_type": "code",
   "execution_count": 31,
   "metadata": {},
   "outputs": [],
   "source": [
    "def save_loaded(protein, split):\n",
    "\n",
    "    training_data, test_data = load_data(protein, split)\n",
    "\n",
    "    x_list = []\n",
    "    y_list = []\n",
    "\n",
    "    for x, y in test_data:\n",
    "\n",
    "        x_list.append(x)\n",
    "        y_list.append(y)\n",
    "\n",
    "    test = pd.DataFrame()\n",
    "\n",
    "    test['x'] = x_list\n",
    "    test['y'] = y_list\n",
    "    \n",
    "    test.to_csv('test.csv', index = False)"
   ]
  },
  {
   "cell_type": "code",
   "execution_count": 32,
   "metadata": {},
   "outputs": [],
   "source": [
    "save_loaded('UEA', 100)"
   ]
  },
  {
   "cell_type": "code",
   "execution_count": null,
   "metadata": {},
   "outputs": [],
   "source": []
  }
 ],
 "metadata": {
  "kernelspec": {
   "display_name": "Python 3",
   "language": "python",
   "name": "python3"
  },
  "language_info": {
   "codemirror_mode": {
    "name": "ipython",
    "version": 3
   },
   "file_extension": ".py",
   "mimetype": "text/x-python",
   "name": "python",
   "nbconvert_exporter": "python",
   "pygments_lexer": "ipython3",
   "version": "3.7.3"
  }
 },
 "nbformat": 4,
 "nbformat_minor": 2
}
