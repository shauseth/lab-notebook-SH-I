{
 "cells": [
  {
   "cell_type": "code",
   "execution_count": 1,
   "metadata": {},
   "outputs": [],
   "source": [
    "# SH-I"
   ]
  },
  {
   "cell_type": "code",
   "execution_count": 2,
   "metadata": {},
   "outputs": [],
   "source": [
    "import pandas as pd\n",
    "import numpy as np\n",
    "import os\n",
    "import matplotlib as mpl\n",
    "import matplotlib.pyplot as plt"
   ]
  },
  {
   "cell_type": "code",
   "execution_count": 3,
   "metadata": {},
   "outputs": [],
   "source": [
    "lectins = ['ACG', 'CTB', 'DC_SIGN', 'Gal4', 'LCA', 'MAL', 'NPL', 'PSA', 'SBA', 'SNL', 'UEA']\n",
    "\n",
    "lectin_dict = {'ACG' : 'Agrocybe cylindracea lectin',\n",
    "               'CTB' : 'Cholera Toxin B subunit',\n",
    "               'DC_SIGN' : 'DC-SIGN CRD',\n",
    "               'Gal4' : 'Gal4-mAb',\n",
    "               'LCA' : 'Lens culinaris Agglutinin',\n",
    "               'MAL' : 'Maachkia amurensis Leukoagglutinin',\n",
    "               'NPL' : 'Narcissus pseudonarcissus lectin',\n",
    "               'PSA' : 'Pisum sativum Agglutinin',\n",
    "               'SBA' : 'Soyabean Agglutinin',\n",
    "               'SNL' : 'Sambucus nigra lectin',\n",
    "               'UEA' : 'Ulex europaeus Agglutinin'}"
   ]
  },
  {
   "cell_type": "code",
   "execution_count": 92,
   "metadata": {},
   "outputs": [],
   "source": [
    "def plot_final(lectin, save = False, draw = False):\n",
    "    \n",
    "    fs = 15\n",
    "    \n",
    "    plt.rcParams['font.family'] = 'arial'\n",
    "    plt.rcParams['svg.fonttype'] = 'none'\n",
    "    \n",
    "    aligned = pd.read_csv('figures/outputs/' + lectin + '.csv')\n",
    "    aligned = numbered(aligned)\n",
    "    \n",
    "    aligned['IUPAC (LiGA)'] = aligned['IUPAC (LiGA)'].fillna('')\n",
    "    aligned['IUPAC (CFG)'] = aligned['IUPAC (CFG)'].fillna('')\n",
    "    \n",
    "    # replace this with real data\n",
    "    # aligned['LiGA StDev'] = np.random.randint(1, 3, len(aligned)).astype(np.float)\n",
    "    \n",
    "    x1, y1 = aligned['LiGA Count'], aligned['total'] # add here\n",
    "    x2, y2, e2 = aligned['CFG Count'], aligned['Average RFU'] / 1000, aligned['StDev'] / 1000\n",
    "\n",
    "    i1 = np.arange(len(x1))\n",
    "    i2 = np.arange(len(x2))\n",
    "    \n",
    "    fig, (ax1, ax2) = plt.subplots(2, figsize = (20, 10))\n",
    "\n",
    "    liga = ax1.bar(i1, y1, color = 'steelblue', zorder = 3) # and here\n",
    "    ax1.xaxis.tick_top() \n",
    "    plt.sca(ax1)\n",
    "    plt.ylabel('Enrichment', fontsize = fs)\n",
    "    plt.xticks(i2, x1, rotation = 'vertical')\n",
    "    plt.grid(True, axis = 'x')\n",
    "    # plt.title(lectin_dict[lectin], fontsize = fs + 5, y = 1.08)\n",
    "    plt.tight_layout()\n",
    "    ax1.yaxis.tick_right()\n",
    "    ax1.yaxis.set_label_position(\"right\")\n",
    "    plt.yticks(rotation = 'vertical')\n",
    "\n",
    "    cfg = ax2.bar(i2, y2, yerr = e2, capsize = 3, color = 'black', zorder = 3)\n",
    "    plt.sca(ax2)\n",
    "    plt.ylabel('Average RFU x $10^3$', fontsize = fs)\n",
    "    plt.xticks(i2, x2, rotation = 'vertical')\n",
    "    plt.grid(True, axis = 'x', zorder = 0)\n",
    "    ax2.invert_yaxis()\n",
    "    ax2.yaxis.tick_right()\n",
    "    ax2.yaxis.set_label_position(\"right\")\n",
    "    plt.yticks(rotation = 'vertical')\n",
    "\n",
    "    plt.subplots_adjust(hspace = 0.05)\n",
    "    plt.legend([liga, cfg], ['LiGA', 'CFG'], loc = 4, prop = {'size': fs})\n",
    "    plt.tight_layout()\n",
    "    \n",
    "    plt.text(-7, 0, lectin_dict[lectin], fontsize = fs + 5,\n",
    "             horizontalalignment = 'center', verticalalignment = 'center',\n",
    "             rotation = 'vertical')\n",
    "    \n",
    "    if save:\n",
    "\n",
    "        plt.savefig('figures/final/' + lectin + '.svg', format = 'svg', bbox_inches = 'tight')\n",
    "    \n",
    "    else:\n",
    "        \n",
    "        plt.show()\n",
    "        \n",
    "    if draw:\n",
    "        \n",
    "        drawer(aligned, lectin)"
   ]
  },
  {
   "cell_type": "code",
   "execution_count": 87,
   "metadata": {},
   "outputs": [],
   "source": [
    "def numbered(aligned):\n",
    "    \n",
    "    liga = aligned['IUPAC (LiGA)']\n",
    "    cfg = aligned['IUPAC (CFG)']\n",
    "    \n",
    "    liga_count = 1\n",
    "    liga_count_list = []\n",
    "\n",
    "    for x in liga:\n",
    "\n",
    "        if x is not np.NaN:\n",
    "\n",
    "            liga_count_list.append(str(liga_count))\n",
    "\n",
    "            liga_count += 1\n",
    "\n",
    "        else:\n",
    "\n",
    "            liga_count_list.append('')\n",
    "\n",
    "    aligned['LiGA Count'] = liga_count_list\n",
    "\n",
    "    cfg_count = 1\n",
    "    cfg_count_list = []\n",
    "\n",
    "    for x in cfg:\n",
    "\n",
    "        if x is not np.NaN:\n",
    "\n",
    "            cfg_count_list.append(str(cfg_count))\n",
    "\n",
    "            cfg_count += 1\n",
    "\n",
    "        else:\n",
    "\n",
    "            cfg_count_list.append('')\n",
    "\n",
    "    aligned['CFG Count'] = cfg_count_list\n",
    "    \n",
    "    aligned = aligned[['LiGA Count', 'IUPAC (LiGA)', 'total', 'CFG Count', 'IUPAC (CFG)', 'Average RFU', 'StDev']]\n",
    "    \n",
    "    return aligned"
   ]
  },
  {
   "cell_type": "code",
   "execution_count": 88,
   "metadata": {},
   "outputs": [],
   "source": [
    "def drawer(aligned, lectin):\n",
    "\n",
    "    aligned['total'] = norm(aligned['total'])\n",
    "    aligned['Average RFU'] = norm(aligned['Average RFU'])\n",
    "\n",
    "    for c, n in zip(aligned[aligned['total'] > 0.7]['LiGA Count'],\n",
    "                    aligned[aligned['total'] > 0.7]['IUPAC (LiGA)']):\n",
    "\n",
    "        for filename in os.listdir(os.getcwd() + '/drawings/eps/liga'):\n",
    "\n",
    "            if n in filename:\n",
    "\n",
    "                os.system('cp \"' + os.getcwd() + '/drawings/eps/liga/' + filename +\n",
    "                            '\" \"' + os.getcwd() + '/figures/final/drawn/' + lectin + '_liga_' + c + '_' + n + '.eps\"')\n",
    "\n",
    "    for c, n in zip(aligned[aligned['Average RFU'] > 0.7]['CFG Count'],\n",
    "                    aligned[aligned['Average RFU'] > 0.7]['IUPAC (CFG)']):\n",
    "\n",
    "        for filename in os.listdir(os.getcwd() + '/drawings/eps/cfg'):\n",
    "\n",
    "            if n in filename:\n",
    "\n",
    "                os.system('cp \"' + os.getcwd() + '/drawings/eps/cfg/' + filename +\n",
    "                            '\" \"' + os.getcwd() + '/figures/final/drawn/' + lectin + '_cfg_' + c + '_' + n + '.eps\"')"
   ]
  },
  {
   "cell_type": "code",
   "execution_count": 89,
   "metadata": {},
   "outputs": [],
   "source": [
    "def norm(arr):\n",
    "    \n",
    "    p = (arr - arr.min())\n",
    "    q = arr.max() - arr.min()\n",
    "    \n",
    "    return p / q"
   ]
  },
  {
   "cell_type": "code",
   "execution_count": 94,
   "metadata": {},
   "outputs": [
    {
     "data": {
      "image/png": "[encoded data removed]",
      "text/plain": [
       "<Figure size 1440x720 with 2 Axes>"
      ]
     },
     "metadata": {
      "needs_background": "light"
     },
     "output_type": "display_data"
    }
   ],
   "source": [
    "plot_final('UEA', save = True, draw = True)"
   ]
  },
  {
   "cell_type": "code",
   "execution_count": null,
   "metadata": {},
   "outputs": [],
   "source": []
  }
 ],
 "metadata": {
  "kernelspec": {
   "display_name": "Python 3",
   "language": "python",
   "name": "python3"
  },
  "language_info": {
   "codemirror_mode": {
    "name": "ipython",
    "version": 3
   },
   "file_extension": ".py",
   "mimetype": "text/x-python",
   "name": "python",
   "nbconvert_exporter": "python",
   "pygments_lexer": "ipython3",
   "version": "3.7.3"
  }
 },
 "nbformat": 4,
 "nbformat_minor": 2
}
