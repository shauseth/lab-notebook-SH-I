{
 "cells": [
  {
   "cell_type": "code",
   "execution_count": 1,
   "metadata": {},
   "outputs": [],
   "source": [
    "# SH-I"
   ]
  },
  {
   "cell_type": "code",
   "execution_count": 2,
   "metadata": {},
   "outputs": [],
   "source": [
    "import pandas as pd\n",
    "import numpy as np\n",
    "import re\n",
    "import itertools"
   ]
  },
  {
   "cell_type": "code",
   "execution_count": 3,
   "metadata": {},
   "outputs": [],
   "source": [
    "test = ['ABC-Sp', # linear\n",
    "        'A[B]C-Sp', # single branch\n",
    "        'A[B]C[D]E-Sp', # multiple branches\n",
    "        'A[B]C[D]E[F]G-Sp',\n",
    "        'A[B]C[D]E[F]G[H]I-Sp', \n",
    "        'A[B]C[D[E]F]G-Sp', # sub branches\n",
    "        'A[B]C[D]E[F[G]H]I-Sp',\n",
    "        'A[B][C]D-Sp'] # triple braches"
   ]
  },
  {
   "cell_type": "code",
   "execution_count": 4,
   "metadata": {},
   "outputs": [],
   "source": [
    "def seperate(family):\n",
    "    \n",
    "    parent = family.split(']')[-1]\n",
    "    children = ']'.join(family.split(']')[:-1])\n",
    "    child = children.split('[')\n",
    "\n",
    "    for i, x in enumerate(child):\n",
    "\n",
    "        if ']' not in x:\n",
    "\n",
    "            pos = i\n",
    "\n",
    "    child1 = '['.join(child[:pos])\n",
    "    child2 = '['.join(child[pos:])\n",
    "    \n",
    "    return child1, child2, parent"
   ]
  },
  {
   "cell_type": "code",
   "execution_count": 19,
   "metadata": {},
   "outputs": [],
   "source": [
    "glycan = test[5]\n",
    "glycan_list = [glycan]\n",
    "\n",
    "family = '-'.join(glycan.split('-')[:-1])\n",
    "linkage = glycan.split('-')[-1]\n",
    "\n",
    "child1, child2, parent = seperate(family)\n",
    "\n",
    "glycan_list.append(child2 + '[' + child1 + ']' + parent + '-' + linkage)"
   ]
  },
  {
   "cell_type": "code",
   "execution_count": 20,
   "metadata": {},
   "outputs": [
    {
     "data": {
      "text/plain": [
       "['A[B]C[D[E]F]G-Sp', 'D[E]F[A[B]C]G-Sp']"
      ]
     },
     "execution_count": 20,
     "metadata": {},
     "output_type": "execute_result"
    }
   ],
   "source": [
    "glycan_list"
   ]
  },
  {
   "cell_type": "code",
   "execution_count": 21,
   "metadata": {},
   "outputs": [
    {
     "data": {
      "text/plain": [
       "('A[B]C', 'D[E]F', 'G')"
      ]
     },
     "execution_count": 21,
     "metadata": {},
     "output_type": "execute_result"
    }
   ],
   "source": [
    "seperate(family)"
   ]
  },
  {
   "cell_type": "code",
   "execution_count": 23,
   "metadata": {},
   "outputs": [
    {
     "name": "stdout",
     "output_type": "stream",
     "text": [
      "ABC-Sp\n",
      "A[B]C-Sp\n",
      "A[B]C[D]E-Sp\n",
      "A[B]C[D]E[F]G-Sp\n",
      "A[B]C[D]E[F]G[H]I-Sp\n",
      "A[B]C[D[E]F]G-Sp\n",
      "A[B]C[D]E[F[G]H]I-Sp\n",
      "A[B][C]D-Sp\n"
     ]
    }
   ],
   "source": [
    "for x in test:\n",
    "    \n",
    "    print(x)"
   ]
  },
  {
   "cell_type": "code",
   "execution_count": null,
   "metadata": {},
   "outputs": [],
   "source": []
  }
 ],
 "metadata": {
  "kernelspec": {
   "display_name": "Python 3",
   "language": "python",
   "name": "python3"
  },
  "language_info": {
   "codemirror_mode": {
    "name": "ipython",
    "version": 3
   },
   "file_extension": ".py",
   "mimetype": "text/x-python",
   "name": "python",
   "nbconvert_exporter": "python",
   "pygments_lexer": "ipython3",
   "version": "3.7.3"
  }
 },
 "nbformat": 4,
 "nbformat_minor": 2
}
