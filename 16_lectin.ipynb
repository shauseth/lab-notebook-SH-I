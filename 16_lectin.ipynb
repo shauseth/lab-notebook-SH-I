{
 "cells": [
  {
   "cell_type": "code",
   "execution_count": 1,
   "metadata": {},
   "outputs": [],
   "source": [
    "# SH-I"
   ]
  },
  {
   "cell_type": "code",
   "execution_count": 2,
   "metadata": {},
   "outputs": [],
   "source": [
    "import pandas as pd\n",
    "import os"
   ]
  },
  {
   "cell_type": "code",
   "execution_count": 65,
   "metadata": {},
   "outputs": [],
   "source": [
    "data = pd.read_excel('intersection.xlsx')\n",
    "data['Structure on Masterlist'] = data['IUPAC (CFG)']"
   ]
  },
  {
   "cell_type": "code",
   "execution_count": 76,
   "metadata": {},
   "outputs": [],
   "source": [
    "for filename in os.listdir('workable/'):\n",
    "    \n",
    "    file = pd.read_excel('workable/' + filename)\n",
    "    file = file[['Chart Number', 'Structure on Masterlist', 'Average RFU', 'StDev', '% CV']]\n",
    "    \n",
    "    merged = pd.merge(file, data, on = 'Structure on Masterlist')\n",
    "    \n",
    "    output = pd.DataFrame()\n",
    "    output = merged[['Structure on Masterlist', 'Average RFU', 'StDev', '% CV']]\n",
    "    \n",
    "    output.to_csv(filename[:-4] + '.csv', index = False)"
   ]
  },
  {
   "cell_type": "code",
   "execution_count": null,
   "metadata": {},
   "outputs": [],
   "source": []
  }
 ],
 "metadata": {
  "kernelspec": {
   "display_name": "Python 3",
   "language": "python",
   "name": "python3"
  },
  "language_info": {
   "codemirror_mode": {
    "name": "ipython",
    "version": 3
   },
   "file_extension": ".py",
   "mimetype": "text/x-python",
   "name": "python",
   "nbconvert_exporter": "python",
   "pygments_lexer": "ipython3",
   "version": "3.7.3"
  }
 },
 "nbformat": 4,
 "nbformat_minor": 2
}
