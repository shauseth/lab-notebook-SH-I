{
 "cells": [
  {
   "cell_type": "code",
   "execution_count": 1,
   "metadata": {},
   "outputs": [],
   "source": [
    "# SH-I"
   ]
  },
  {
   "cell_type": "code",
   "execution_count": 2,
   "metadata": {},
   "outputs": [],
   "source": [
    "import numpy as np\n",
    "import pickle\n",
    "import matplotlib.pyplot as plt\n",
    "from sklearn.metrics import confusion_matrix"
   ]
  },
  {
   "cell_type": "code",
   "execution_count": 21,
   "metadata": {},
   "outputs": [],
   "source": [
    "def plot_confusion(filename = 'confusion'):\n",
    "    \n",
    "    with open('results.pkl', 'rb') as f:\n",
    "    \n",
    "        results = pickle.load(f)\n",
    "    \n",
    "    y_pred = []\n",
    "    y_actu = []\n",
    "\n",
    "    for x, y in results:\n",
    "\n",
    "        y_pred.append(np.argmax(y))\n",
    "        y_actu.append(np.argmax(x))\n",
    "\n",
    "    confusion = confusion_matrix(y_actu, y_pred)\n",
    "    \n",
    "    fig, ax = plt.subplots()\n",
    "\n",
    "    plt.imshow(confusion, cmap = 'Blues')\n",
    "    plt.xticks(np.arange(3), ['high', 'med', 'low'], rotation = 'vertical')\n",
    "    plt.yticks(np.arange(3), ['high', 'med', 'low'])\n",
    "    plt.xlabel('output')\n",
    "    plt.ylabel('desired output')\n",
    "    ax.xaxis.tick_top()\n",
    "    ax.xaxis.set_label_position('top') \n",
    "    \n",
    "    threshold = confusion.max() / 2.0\n",
    "    \n",
    "    for i in range(3):\n",
    "        \n",
    "        for j in range(3):\n",
    "            \n",
    "            if confusion[i, j] > threshold:\n",
    "                \n",
    "                text = ax.text(j, i, confusion[i, j], ha = 'center', va = 'center', color = 'w')\n",
    "                \n",
    "            else:\n",
    "\n",
    "                text = ax.text(j, i, confusion[i, j], ha = 'center', va = 'center')\n",
    "\n",
    "    plt.savefig(filename + '.pdf', bbox_inches = 'tight')"
   ]
  },
  {
   "cell_type": "code",
   "execution_count": 22,
   "metadata": {},
   "outputs": [
    {
     "data": {
      "image/png": "[encoded data removed]",
      "text/plain": [
       "<Figure size 432x288 with 1 Axes>"
      ]
     },
     "metadata": {
      "needs_background": "light"
     },
     "output_type": "display_data"
    }
   ],
   "source": [
    "plot_confusion()"
   ]
  },
  {
   "cell_type": "code",
   "execution_count": 28,
   "metadata": {},
   "outputs": [
    {
     "data": {
      "text/plain": [
       "array([[ 1,  0,  0],\n",
       "       [ 1,  2,  3],\n",
       "       [ 1,  4, 88]])"
      ]
     },
     "execution_count": 28,
     "metadata": {},
     "output_type": "execute_result"
    }
   ],
   "source": [
    "with open('results.pkl', 'rb') as f:\n",
    "    \n",
    "    results = pickle.load(f)\n",
    "    \n",
    "y_pred = []\n",
    "y_actu = []\n",
    "\n",
    "for x, y in results:\n",
    "\n",
    "    y_pred.append(np.argmax(y))\n",
    "    y_actu.append(np.argmax(x))\n",
    "\n",
    "confusion_matrix(y_actu, y_pred, [0, 1, 2])"
   ]
  },
  {
   "cell_type": "code",
   "execution_count": null,
   "metadata": {},
   "outputs": [],
   "source": []
  }
 ],
 "metadata": {
  "kernelspec": {
   "display_name": "Python 3",
   "language": "python",
   "name": "python3"
  },
  "language_info": {
   "codemirror_mode": {
    "name": "ipython",
    "version": 3
   },
   "file_extension": ".py",
   "mimetype": "text/x-python",
   "name": "python",
   "nbconvert_exporter": "python",
   "pygments_lexer": "ipython3",
   "version": "3.7.3"
  }
 },
 "nbformat": 4,
 "nbformat_minor": 2
}
