{
 "cells": [
  {
   "cell_type": "code",
   "execution_count": 1,
   "metadata": {},
   "outputs": [],
   "source": [
    "# SH-I"
   ]
  },
  {
   "cell_type": "code",
   "execution_count": 2,
   "metadata": {},
   "outputs": [],
   "source": [
    "import pandas as pd\n",
    "import numpy as np"
   ]
  },
  {
   "cell_type": "code",
   "execution_count": 3,
   "metadata": {},
   "outputs": [],
   "source": [
    "yo = pd.read_csv('re_YO_conv.csv')\n",
    "uea = pd.read_csv('focus_folder/Ulex europaeus Agglutinin.csv')\n",
    "\n",
    "# glycan name convertions to IUPAC\n",
    "yo_conv = pd.read_csv('focus_folder/MALDI-IUPAC.csv')\n",
    "uea_conv = pd.read_excel('focus_folder/convertible.xlsx')\n",
    "\n",
    "# dictionaries to IUPAC\n",
    "uea_dict = dict(zip(uea_conv['IUPAC'], uea_conv['GlyTouCan'] + uea_conv['Linkage']))\n",
    "\n",
    "uea['Structure_IUPAC'] = uea['Structure on Masterlist'].map(uea_dict)\n",
    "uea = uea[['Structure_IUPAC', 'Average RFU', 'StDev', '% CV']]\n",
    "\n",
    "yo_gly = yo['YO (IUPAC)']\n",
    "uea_gly = uea['Structure_IUPAC']"
   ]
  },
  {
   "cell_type": "code",
   "execution_count": 4,
   "metadata": {},
   "outputs": [],
   "source": [
    "yo_name = []\n",
    "yo_link = []\n",
    "\n",
    "for i in yo_gly:\n",
    "    \n",
    "    x = i.split('-')[:-1]\n",
    "    x = '-'.join(x) + '-'\n",
    "    \n",
    "    y = i.split('-')[-1]\n",
    "    \n",
    "    yo_name.append(x)\n",
    "    yo_link.append(y)"
   ]
  },
  {
   "cell_type": "code",
   "execution_count": 5,
   "metadata": {},
   "outputs": [],
   "source": [
    "uea_name = []\n",
    "uea_link = []\n",
    "\n",
    "for i in uea_gly:\n",
    "    \n",
    "    x = i.split('-')[:-1]\n",
    "    x = '-'.join(x) + '-'\n",
    "    \n",
    "    y = i.split('-')[-1]\n",
    "    \n",
    "    uea_name.append(x)\n",
    "    uea_link.append(y)"
   ]
  },
  {
   "cell_type": "code",
   "execution_count": 6,
   "metadata": {},
   "outputs": [],
   "source": [
    "yo_arr = np.array(yo_name)\n",
    "uea_arr = np.array(uea_name)"
   ]
  },
  {
   "cell_type": "code",
   "execution_count": 18,
   "metadata": {},
   "outputs": [],
   "source": [
    "yo_df = pd.DataFrame()\n",
    "yo_df['Name (YO)'] = yo_name"
   ]
  },
  {
   "cell_type": "code",
   "execution_count": 19,
   "metadata": {},
   "outputs": [],
   "source": [
    "uea_dict = dict(zip(uea_name, uea_gly))"
   ]
  },
  {
   "cell_type": "code",
   "execution_count": 22,
   "metadata": {},
   "outputs": [],
   "source": [
    "yo_df['Glycans (CFG)'] = yo_df['Name (YO)'].map(uea_dict)"
   ]
  },
  {
   "cell_type": "code",
   "execution_count": 36,
   "metadata": {},
   "outputs": [],
   "source": [
    "arr = np.setdiff1d(uea['Structure_IUPAC'], yo_df['Glycans (CFG)'].fillna(''))"
   ]
  },
  {
   "cell_type": "code",
   "execution_count": 37,
   "metadata": {},
   "outputs": [],
   "source": [
    "df = pd.DataFrame()\n",
    "df['Glycans'] = arr"
   ]
  },
  {
   "cell_type": "code",
   "execution_count": 39,
   "metadata": {},
   "outputs": [],
   "source": [
    "df.to_csv('df.csv', index = False)"
   ]
  },
  {
   "cell_type": "code",
   "execution_count": null,
   "metadata": {},
   "outputs": [],
   "source": []
  }
 ],
 "metadata": {
  "kernelspec": {
   "display_name": "Python 3",
   "language": "python",
   "name": "python3"
  },
  "language_info": {
   "codemirror_mode": {
    "name": "ipython",
    "version": 3
   },
   "file_extension": ".py",
   "mimetype": "text/x-python",
   "name": "python",
   "nbconvert_exporter": "python",
   "pygments_lexer": "ipython3",
   "version": "3.7.3"
  }
 },
 "nbformat": 4,
 "nbformat_minor": 2
}
