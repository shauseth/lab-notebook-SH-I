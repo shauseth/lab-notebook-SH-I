{
 "cells": [
  {
   "cell_type": "code",
   "execution_count": 1,
   "metadata": {},
   "outputs": [],
   "source": [
    "# SH-I"
   ]
  },
  {
   "cell_type": "code",
   "execution_count": 2,
   "metadata": {},
   "outputs": [],
   "source": [
    "import pandas as pd\n",
    "import numpy as np"
   ]
  },
  {
   "cell_type": "code",
   "execution_count": 3,
   "metadata": {},
   "outputs": [],
   "source": [
    "lectins = ['ACG', 'CTB', 'DC_SIGN', 'Gal4', 'LCA', 'MAL', 'NPL', 'PSA', 'SBA', 'SNL', 'UEA']"
   ]
  },
  {
   "cell_type": "code",
   "execution_count": 4,
   "metadata": {},
   "outputs": [],
   "source": [
    "def align(lectin, save = False):\n",
    "\n",
    "    cfg = pd.read_excel('figures/cfg/CFG_' + lectin + '.xls')\n",
    "    liga = pd.read_csv('figures/liga/LiGA_' + lectin + '.csv')\n",
    "    liga_sd = pd.read_csv('figures/liga/StDev/' + lectin + '_vs_YG.csv')\n",
    "\n",
    "    order = pd.read_csv('figures/order.csv')\n",
    "\n",
    "    cfg_glycans = pd.read_csv('figures/cfg_glycans.csv')\n",
    "    liga_glycans = pd.read_csv('figures/liga_glycans.csv')\n",
    "\n",
    "    liga_sd_dict = dict(zip(liga_sd['Mod'], liga_sd['totalStd']))\n",
    "    liga['LiGA_StDev'] = liga['Mod'].map(liga_sd_dict).fillna(0)\n",
    "\n",
    "    assert len(cfg['Structure on Masterlist']) == 611, 'Not the same length bruh.'\n",
    "    cfg['IUPAC (CFG)'] = cfg_glycans['IUPAC'].values\n",
    "    liga_dict = dict(zip(liga_glycans['Glycan'], liga_glycans['IUPAC']))\n",
    "    liga['IUPAC (LiGA)'] = liga['Mod'].map(liga_dict)\n",
    "    cfg = cfg[['IUPAC (CFG)', 'Average RFU', 'StDev']]\n",
    "    liga = liga[['IUPAC (LiGA)', 'total', 'LiGA_StDev']]\n",
    "\n",
    "    label(liga, 'IUPAC (LiGA)')\n",
    "    label(cfg, 'IUPAC (CFG)')\n",
    "    label(order, 'IUPAC (LiGA)')\n",
    "    label(order, 'IUPAC (CFG)')\n",
    "\n",
    "    cfg_val_dict = dict(zip(cfg['IUPAC (CFG)'], cfg['Average RFU']))\n",
    "    cfg_std_dict = dict(zip(cfg['IUPAC (CFG)'], cfg['StDev']))\n",
    "    liga_val_dict = dict(zip(liga['IUPAC (LiGA)'], liga['total']))\n",
    "    liga_std_dict = dict(zip(liga['IUPAC (LiGA)'], liga['LiGA_StDev']))\n",
    "\n",
    "    order['total'] = order['IUPAC (LiGA)'].map(liga_val_dict)\n",
    "    order['LiGA_StDev'] = order['IUPAC (LiGA)'].map(liga_std_dict)\n",
    "    order['Average RFU'] = order['IUPAC (CFG)'].map(cfg_val_dict)\n",
    "    order['StDev'] = order['IUPAC (CFG)'].map(cfg_std_dict)\n",
    "\n",
    "    aligned = order[['IUPAC (LiGA)', 'total', 'LiGA_StDev', 'IUPAC (CFG)', 'Average RFU', 'StDev']]\n",
    "    aligned.iloc[-1, 3:] = aligned.iloc[-1, 3:].fillna(0)\n",
    "\n",
    "    unlabel(aligned, 'IUPAC (LiGA)')\n",
    "    unlabel(aligned, 'IUPAC (CFG)')\n",
    "    \n",
    "    if save:\n",
    "        \n",
    "        aligned.to_csv('figures/outputs/' + lectin + '.csv', index = False)\n",
    "    \n",
    "    return aligned"
   ]
  },
  {
   "cell_type": "code",
   "execution_count": 5,
   "metadata": {},
   "outputs": [],
   "source": [
    "def top(lectin, save = False):\n",
    "    \n",
    "    cfg = pd.read_excel('figures/cfg/CFG_' + lectin + '.xls')\n",
    "    cfg_glycans = pd.read_csv('figures/cfg_glycans.csv')\n",
    "\n",
    "    assert len(cfg['Structure on Masterlist']) == 611, 'Not the same length bruh.'\n",
    "    cfg['IUPAC (CFG)'] = cfg_glycans['IUPAC'].values\n",
    "    cfg = cfg.sort_values('Average RFU', ascending = False)\n",
    "\n",
    "    cfg['Norm'] = norm(cfg['Average RFU'].values)\n",
    "\n",
    "    top = cfg[cfg['Norm'] > 0.2]\n",
    "    top = top[['IUPAC (CFG)', 'Average RFU', 'StDev']]\n",
    "    top = top.sort_index()\n",
    "    top = top.reset_index(drop = True)\n",
    "    \n",
    "    if save:\n",
    "        \n",
    "        top.to_csv('figures/outputs/' + lectin + '_top.csv', index = False)\n",
    "    \n",
    "    return top"
   ]
  },
  {
   "cell_type": "code",
   "execution_count": 6,
   "metadata": {},
   "outputs": [],
   "source": [
    "def norm(arr):\n",
    "    \n",
    "    p = (arr - arr.min())\n",
    "    q = arr.max() - arr.min()\n",
    "    \n",
    "    return p / q\n",
    "\n",
    "def label(df, col):\n",
    "    \n",
    "    df[col] = df[col] + '_' + df.groupby([col]).cumcount().astype(str)\n",
    "    \n",
    "def unlabel(df, col):\n",
    "    \n",
    "    df[col] = [str(x).split('_')[0] for x in df[col]]\n",
    "    df[col] = df[col].replace('nan', np.NaN)"
   ]
  },
  {
   "cell_type": "code",
   "execution_count": 7,
   "metadata": {
    "scrolled": true
   },
   "outputs": [
    {
     "name": "stdout",
     "output_type": "stream",
     "text": [
      "WARNING *** file size (272385) not 512 + multiple of sector size (512)\n",
      "WARNING *** file size (272385) not 512 + multiple of sector size (512)\n"
     ]
    }
   ],
   "source": [
    "for lectin in lectins:\n",
    "\n",
    "    align(lectin, save = True)\n",
    "    top(lectin, save = True)"
   ]
  },
  {
   "cell_type": "code",
   "execution_count": null,
   "metadata": {},
   "outputs": [],
   "source": []
  }
 ],
 "metadata": {
  "kernelspec": {
   "display_name": "Python 3",
   "language": "python",
   "name": "python3"
  },
  "language_info": {
   "codemirror_mode": {
    "name": "ipython",
    "version": 3
   },
   "file_extension": ".py",
   "mimetype": "text/x-python",
   "name": "python",
   "nbconvert_exporter": "python",
   "pygments_lexer": "ipython3",
   "version": "3.7.3"
  }
 },
 "nbformat": 4,
 "nbformat_minor": 2
}
