{
 "cells": [
  {
   "cell_type": "code",
   "execution_count": 1,
   "metadata": {},
   "outputs": [],
   "source": [
    "# SH-1"
   ]
  },
  {
   "cell_type": "code",
   "execution_count": 2,
   "metadata": {},
   "outputs": [],
   "source": [
    "import pandas as pd"
   ]
  },
  {
   "cell_type": "code",
   "execution_count": 3,
   "metadata": {},
   "outputs": [],
   "source": [
    "def converter(iupac):\n",
    "\n",
    "    glycan = iupac.split('-')\n",
    "    \n",
    "    if len(glycan) == 2:\n",
    "        \n",
    "        mono_1 = glycan[0]\n",
    "        mono_1 = mono_1[:-1] + '(' + mono_1[-1:]\n",
    "        \n",
    "        return mono_1 + '1-'\n",
    "\n",
    "    else:\n",
    "        \n",
    "        return 'Null'"
   ]
  },
  {
   "cell_type": "code",
   "execution_count": 4,
   "metadata": {},
   "outputs": [],
   "source": [
    "data = pd.read_csv('glycans.csv')"
   ]
  },
  {
   "cell_type": "code",
   "execution_count": 5,
   "metadata": {},
   "outputs": [],
   "source": [
    "data['IUPAC (GTC)'] = data['IUPAC (CFG)'].apply(converter)"
   ]
  },
  {
   "cell_type": "code",
   "execution_count": 6,
   "metadata": {},
   "outputs": [
    {
     "data": {
      "text/plain": [
       "0                                               Gala-Sp8\n",
       "1                                               Glca-Sp8\n",
       "2                                               Mana-Sp8\n",
       "3                                            GalNAca-Sp8\n",
       "4                                           GalNAca-Sp15\n",
       "5                                               Fuca-Sp8\n",
       "6                                               Fuca-Sp9\n",
       "7                                               Rhaa-Sp8\n",
       "8                                            Neu5Aca-Sp8\n",
       "9                                           Neu5Aca-Sp11\n",
       "10                                           Neu5Acb-Sp8\n",
       "11                                              Galb-Sp8\n",
       "12                                              Glcb-Sp8\n",
       "13                                              Manb-Sp8\n",
       "14                                           GalNAcb-Sp8\n",
       "15                                           GlcNAcb-Sp0\n",
       "16                                           GlcNAcb-Sp8\n",
       "17                                         GlcN(Gc)b-Sp8\n",
       "18       Galb1-4GlcNAcb1-6(Galb1-4GlcNAcb1-3)GalNAca-Sp8\n",
       "19       Galb1-4GlcNAcb1-6(Galb1-4GlcNAcb1-3)GalNAc-Sp14\n",
       "20          GlcNAcb1-6(GlcNAcb1-4)(GlcNAcb1-3)GlcNAc-Sp8\n",
       "21                          6S(3S)Galb1-4(6S)GlcNAcb-Sp0\n",
       "22                              6S(3S)Galb1-4GlcNAcb-Sp0\n",
       "23                       (3S)Galb1-4(Fuca1-3)(6S)Glc-Sp0\n",
       "24                                   (3S)Galb1-4Glcb-Sp8\n",
       "25                               (3S)Galb1-4(6S)Glcb-Sp0\n",
       "26                               (3S)Galb1-4(6S)Glcb-Sp8\n",
       "27                       (3S)Galb1-3(Fuca1-4)GlcNAcb-Sp8\n",
       "28                                (3S)Galb1-3GalNAca-Sp8\n",
       "29                                (3S)Galb1-3GlcNAcb-Sp0\n",
       "                             ...                        \n",
       "580    Galb1-4GlcNAcb1-3Galb1-4GlcNAcb1-3Galb1-4GlcNA...\n",
       "581    Galb1-4GlcNAcb1-3Galb1-4GlcNAcb1-6(Galb1-4GlcN...\n",
       "582    GlcNAcb1-3Galb1-4GlcNAcb1-3Galb1-4GlcNAcb1-6(G...\n",
       "583    Galb1-4GlcNAcb1-3Galb1-4GlcNAcb1-3Galb1-4GlcNA...\n",
       "584    GlcNAcb1-3Galb1-4GlcNAcb1-3Galb1-4GlcNAcb1-3Ga...\n",
       "585    Galb1-4GlcNAcb1-3Galb1-4GlcNAcb1-3Galb1-4GlcNA...\n",
       "586    GlcNAcb1-3Galb1-4GlcNAcb1-3Galb1-4GlcNAcb1-3Ga...\n",
       "587    Galb1-4GlcNAcb1-3Galb1-4GlcNAcb1-3Galb1-4GlcNA...\n",
       "588       Galb1-4GlcNAcb1-3Galb1-4GlcNAcb1-3GalNAca-Sp14\n",
       "589    Galb1-4GlcNAcb1-3Galb1-4GlcNAcb1-6(Galb1-3)Gal...\n",
       "590    Galb1-4GlcNAcb1-3Galb1-4GlcNAcb1-6(Galb1-4GlcN...\n",
       "591    Neu5Aca2-3Galb1-4GlcNAcb1-3Galb1-4GlcNAcb1-3Ga...\n",
       "592              GlcNAcb1-3Galb1-4GlcNAcb1-3GalNAca-Sp14\n",
       "593     GlcNAcb1-3Galb1-4GlcNAcb1-6(Galb1-3)GalNAca-Sp14\n",
       "594    GlcNAcb1-3Galb1-4GlcNAcb1-6(GlcNAcb1-3Galb1-4G...\n",
       "595    Neu5Aca2-3Galb1-4GlcNAcb1-3Galb1-4GlcNAcb1-6(N...\n",
       "596    Neu5Aca2-6Galb1-4GlcNAcb1-3Galb1-4GlcNAcb1-3Ga...\n",
       "597    GlcNAcb1-3Galb1-4GlcNAcb1-3Galb1-4GlcNAcb1-3Ga...\n",
       "598                 Galb1-4GlcNAcb1-3Galb1-3GalNAca-Sp14\n",
       "599    Neu5Aca2-3Galb1-4GlcNAcb1-3Galb1-4GlcNAcb1-6(G...\n",
       "600    Neu5Aca2-6Galb1-4GlcNAcb1-3Galb1-4GlcNAcb1-6(G...\n",
       "601     Neu5Aca2-6Galb1-4GlcNAcb1-6(Galb1-3)GalNAca-Sp14\n",
       "602    Neu5Aca2-3Galb1-4GlcNAcb1-3Galb1-4GlcNAcb1-2Ma...\n",
       "603            GlcNAcb1-6(Neu5Aca2-3Galb1-3)GalNAca-Sp14\n",
       "604    Neu5Aca2-6Galb1-4GlcNAcb1-3Galb1-4GlcNAcb1-6(N...\n",
       "605    Neu5Aca2-6Galb1-4GlcNAcb1-3Galb1-4GlcNAcb1-3Ga...\n",
       "606    Neu5Aca2-3Galb1-4GlcNAcb1-3Galb1-4GlcNAcb1-3Ga...\n",
       "607    Neu5Aca2-6Galb1-4GlcNAcb1-3Galb1-4GlcNAcb1-2Ma...\n",
       "608                                  GlcNAcb1-3Fuca-Sp21\n",
       "609    Galb1-3GalNAcb1-4(Neu5Aca2-8Neu5Aca2-8Neu5Aca2...\n",
       "Name: IUPAC (CFG), Length: 610, dtype: object"
      ]
     },
     "execution_count": 6,
     "metadata": {},
     "output_type": "execute_result"
    }
   ],
   "source": [
    "data['IUPAC (CFG)']"
   ]
  },
  {
   "cell_type": "code",
   "execution_count": null,
   "metadata": {},
   "outputs": [],
   "source": []
  }
 ],
 "metadata": {
  "kernelspec": {
   "display_name": "Python 3",
   "language": "python",
   "name": "python3"
  },
  "language_info": {
   "codemirror_mode": {
    "name": "ipython",
    "version": 3
   },
   "file_extension": ".py",
   "mimetype": "text/x-python",
   "name": "python",
   "nbconvert_exporter": "python",
   "pygments_lexer": "ipython3",
   "version": "3.7.1"
  }
 },
 "nbformat": 4,
 "nbformat_minor": 2
}
